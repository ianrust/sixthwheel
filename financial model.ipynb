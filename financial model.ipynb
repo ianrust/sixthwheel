{
 "cells": [
  {
   "cell_type": "code",
   "execution_count": 1,
   "metadata": {},
   "outputs": [],
   "source": [
    "import pint\n",
    "ureg = pint.UnitRegistry()\n",
    "# ureg.define('dollar = dimensionless')\n",
    "# dollar = ureg.Quantity(1, 'dollar')\n",
    "dollar = 1"
   ]
  },
  {
   "cell_type": "code",
   "execution_count": 2,
   "metadata": {},
   "outputs": [],
   "source": [
    "# Status Quo (Diesel)\n",
    "# source: https://www.thetruckersreport.com/infographics/cost-of-trucking/\n",
    "# alternate source: https://www.freightwaves.com/news/understanding-total-operating-cost-per-mile#:~:text=Typically%2C%20gross%20fuel%20expense%20averages%20between%20%240.40%2D%240.55%20per%20mile.\n",
    "per_mile_us_shipping_cost = 1.38 * dollar / (ureg.mile)\n",
    "per_mile_fuel_cost = 0.37 * dollar / (ureg.mile)\n",
    "per_mile_equipment_cost = 0.24 * dollar / (ureg.mile)\n",
    "per_mile_driver_cost = 0.55 * dollar / (ureg.mile)\n",
    "per_mile_maintenance_cost = 0.12 * dollar / (ureg.mile)\n",
    "per_mile_insurance_cost = 0.05 * dollar / (ureg.mile)\n",
    "\n",
    "\n",
    "# Status Quo (Electric)\n",
    "\n",
    "# source: https://apps.dana.com/commercial-vehicles/tco/\n",
    "# alt source: https://avt.inl.gov/sites/default/files/pdf/fsev/costs.pdf\n",
    "# retail\n",
    "per_mile_electricity_cost = 0.24 * dollar / (ureg.mile)\n",
    "# PPA\n",
    "# https://pv-magazine-usa.com/2020/02/04/utility-scale-solar-ppa-pricing-down-4-7-in-2019-with-13-6-gw-of-corporate-deals-signed/#:~:text=Utility%2Dscale%20solar%20power%20purchase,kWh%2C%20according%20to%20LevelTen%20Energy.\n",
    "# + transmission costs\n",
    "# https://spectrum.ieee.org/energywise/energy/policy/how-to-predict-a-utilitys-transmission-and-distribution-costs-count-customers-served\n",
    "per_mile_electricity_cost = 0.17 * dollar / (ureg.mile)\n",
    "\n",
    "# source: https://apps.dana.com/commercial-vehicles/tco/\n",
    "per_mile_electric_maintenance_cost = 0.3 * per_mile_maintenance_cost\n",
    "\n",
    "# based on Tesla semi\n",
    "# source: https://electrek.co/2018/05/02/tesla-semi-production-version-range-increase-elon-musk/\n",
    "# alt source: https://lynceans.org/wp-content/uploads/2020/04/Tesla-Semi-converted.pdf\n",
    "# Important note - this says a Tesla semi will have ~20% lower operating costs,\n",
    "# Tesla range optimism is 27% https://www.caranddriver.com/features/a33824052/adjustment-factor-tesla-uses-for-big-epa-range-numbers/\n",
    "per_mile_electric_energy_use = 947 * ureg.kWh / (600 * ureg.mile * 0.77)"
   ]
  },
  {
   "cell_type": "code",
   "execution_count": 3,
   "metadata": {},
   "outputs": [],
   "source": [
    "# Proposal for first route, since LCVs are legal on this route and it has high volume\n",
    "# source: https://ops.fhwa.dot.gov/freight/freight_analysis/nat_freight_stats/nhsavglhft2015.htm\n",
    "pgh_to_chi =500 * ureg.miles"
   ]
  },
  {
   "cell_type": "code",
   "execution_count": 13,
   "metadata": {},
   "outputs": [
    {
     "name": "stdout",
     "output_type": "stream",
     "text": [
      "0.13037037037037036 kilowatt_hour / kilogram\n"
     ]
    }
   ],
   "source": [
    "# Best battery for application: Lithium Iron Phosphate\n",
    "# source: https://batteryuniversity.com/learn/article/types_of_lithium_ion\n",
    "# High cycles\n",
    "# Cheap\n",
    "# Good low temp performance\n",
    "# Safe (not nearly as suscpetible to thermal runaway as compared to Cobalt-based cathodes in Tesla Semi)\n",
    "\n",
    "# source: https://www.alibaba.com/product-detail/Graphene-lithium-iron-phosphate-battery-3_1600131559793.html\n",
    "# battery_price_per_kwh = (63 * dollar / (272 * ureg.amp * ureg.hour * 3.2 * ureg.volt)).to('1/kWh')\n",
    "# this price is more realistic\n",
    "battery_price_per_kwh = (80 * dollar / ureg.kilowatt_hour).to('1/kWh')\n",
    "battery_lifespan = 3000 * pgh_to_chi\n",
    "depletion_factor = 0.8 # how much capacity it has after full cycles\n",
    "lfp_density = (220 * ureg.amp * ureg.hour * 3.2 * ureg.volt) / (5.4 * ureg.kg)\n",
    "print((lfp_density / (ureg.kWh)).to('1/kg')*(ureg.kWh))\n",
    "lfp_vol_density = (272 * ureg.amp * ureg.hour * 3.2 * ureg.volt) / (205 * ureg.mm * 72 * ureg.mm * 175 * ureg.mm)\n",
    "\n",
    "# # NCA https://batteryuniversity.com/learn/article/types_of_lithium_ion\n",
    "# # https://www.alibaba.com/product-detail/Nca-Battery-21700-NCA-3-65V_1600113267932.html?spm=a2700.galleryofferlist.normal_offer.d_title.6a1624eddNa9ff&s=p\n",
    "# battery_price_per_kwh = (2.70 * dollar / (4.5 * ureg.amp * ureg.hour * 3.65 * ureg.volt)).to('1/kWh')\n",
    "# print(battery_price_per_kwh)\n",
    "# battery_lifespan = 500 * pgh_to_chi\n",
    "# depletion_factor = 0.8 # how much capacity it has after full cycles\n",
    "# lfp_density = (4.5 * ureg.amp * ureg.hour * 3.65 * ureg.volt) / (0.072 * ureg.kg)\n",
    "# lfp_vol_density = (4.5 * ureg.amp * ureg.hour * 3.65 * ureg.volt) / (100 * ureg.mm * 50 * ureg.mm * 50 * ureg.mm)"
   ]
  },
  {
   "cell_type": "code",
   "execution_count": 19,
   "metadata": {},
   "outputs": [
    {
     "name": "stdout",
     "output_type": "stream",
     "text": [
      "utilization 0.8583690987124464 dimensionless\n"
     ]
    }
   ],
   "source": [
    "# Parameters that can vary. Fiddle with these to test different operating conditions\\\n",
    "# If you want to test different configurations, these variables can be changed\n",
    "\n",
    "# How much work (proportionally) the electric motors will do (1 means 0% diesel, 0 means 100% diesel)\n",
    "proportion_to_electric = 0.7\n",
    "\n",
    "# How much of the cost savings we claim as revenue, the rest passed on to the rest of the market\n",
    "# (carriers, owner/operators, etc)\n",
    "prop_take = 0.6\n",
    "\n",
    "# How much more the tolls will cost by adding a 1-axle vehicle to the train\n",
    "# source: https://www.ohioturnpike.org/docs/default-source/annual-report-files/cafr-2019-final.pdf?sfvrsn=d361ebc4_2\n",
    "# when >3 trailers, ie classified as a road train (A type, ie fifth wheel to fifth wheel, 53' trailers)\n",
    "# per_mile_toll_increase = 0.07 * dollar / ureg.mile\n",
    "# when no increase in trailers, ie classified as a road train (B type, ie tow hitch to fifth wheel, twin 28' trailer LTL market)\n",
    "# we hope to generally negotiate additional weight fees to the state/tollway to 75% their stated price. Plus, most roads don't have tolls\n",
    "per_mile_toll_increase = 0.07 * dollar / ureg.mile * 0.75\n",
    "\n",
    "# avg speed when on road\n",
    "sixth_wheel_speed = 55 * ureg.mph\n",
    "\n",
    " # proportion of day on road\n",
    "# 30 min charge per trip, 60 min waiting in yard for next trip\n",
    "# https://en.wikipedia.org/wiki/Lithium_iron_phosphate_battery\n",
    "sixth_wheel_utilization = pgh_to_chi / sixth_wheel_speed / (pgh_to_chi / sixth_wheel_speed + 1.5 * ureg.hour)\n",
    "print(\"utilization\", sixth_wheel_utilization)\n",
    "\n",
    "# cost of components (as a proportion of battery cost), roughly based on Tesla\n",
    "additional_component_cost = 15000"
   ]
  },
  {
   "cell_type": "code",
   "execution_count": 20,
   "metadata": {},
   "outputs": [
    {
     "name": "stdout",
     "output_type": "stream",
     "text": [
      "total truck weight (must be <80k lbs) 90940.9266035365 pound\n",
      "6w weight (must be <80k lbs) 20940.9266035365 pound\n",
      "battery compartment length 1.3591298920808348 foot\n",
      "battery capacity 990.6734441153033 kilowatt_hour\n"
     ]
    }
   ],
   "source": [
    "# iteratively get capacity, since more battery weight means need for more capacity\n",
    "added_weight = 10000 * ureg.pound\n",
    "percentage_fuel_per_pound = (0.5 / 100) / (1000 * ureg.pound)\n",
    "resultant_weight = added_weight*0.9\n",
    "# proportional weight of components (as a proportion of battery cost)\n",
    "additional_component_prop_weight = 0.25\n",
    "\n",
    "# https://ops.fhwa.dot.gov/freight/freight_analysis/nat_freight_stats/docs/10factsfigures/table3_3.htm\n",
    "# https://www.freightpros.com/blog/less-than-truckload/\n",
    "# https://www.terrybryant.com/how-much-does-semi-truck-weigh#:~:text=Semi%2Dtractors%20weigh%20up%20to,haul%20up%20to%2034%2C000%20pounds.\n",
    "base_truck_weight = 70000 * ureg.pound\n",
    "percent_under_base_weight = 0.8\n",
    "\n",
    "# How weight impacts fuel https://www.internationaltrucks.com/en/blog/fuel-economy-weight\n",
    "# 0.5% increase per 1000lbs\n",
    "\n",
    "while abs(added_weight - resultant_weight) > 1 * ureg.pound:\n",
    "    added_weight = resultant_weight\n",
    "    battery_capacity = proportion_to_electric * per_mile_electric_energy_use * pgh_to_chi * (1 + percentage_fuel_per_pound * added_weight) / depletion_factor\n",
    "    battery_price = battery_price_per_kwh * battery_capacity\n",
    "\n",
    "    lfp_battery_weight = battery_capacity / lfp_density\n",
    "\n",
    "    resultant_weight = lfp_battery_weight*(1+additional_component_prop_weight)\n",
    "    \n",
    "added_weight = resultant_weight\n",
    "\n",
    "added_weight_factor = (1 + percentage_fuel_per_pound * added_weight)\n",
    "\n",
    "single_battery_price = 27 * dollar\n",
    "num_batteries = battery_price / single_battery_price\n",
    "    \n",
    "print(\"total truck weight (must be <80k lbs)\", (base_truck_weight + added_weight).to('lb'))\n",
    "print(\"6w weight (must be <80k lbs)\", added_weight.to('lb'))\n",
    "print(\"battery compartment length\", ((battery_capacity / lfp_vol_density) / (110 * ureg.inch * 100 * ureg.inch)).to('feet'))\n",
    "print(\"battery capacity\", battery_capacity)"
   ]
  },
  {
   "cell_type": "code",
   "execution_count": 21,
   "metadata": {},
   "outputs": [],
   "source": [
    "# operating costs, averaged as a funtion of the proportion converted to electricity\n",
    "sixth_wheel_per_mile_fuel_cost = (per_mile_fuel_cost * (1-proportion_to_electric) + \\\n",
    "                                    per_mile_electricity_cost * (proportion_to_electric)) * added_weight_factor\n",
    "sixth_wheel_per_mile_maintenance_cost = (per_mile_maintenance_cost * (1-proportion_to_electric) + \\\n",
    "                                    per_mile_electric_maintenance_cost * (proportion_to_electric)) * added_weight_factor\n",
    "# Assume this is slightly lower because of ADAS features like ABS, ACC, anti-skid\n",
    "sixth_wheel_per_mile_insurance_cost = 0.8 * per_mile_insurance_cost\n",
    "\n",
    "# PRICING\n",
    "delta = -per_mile_toll_increase + (per_mile_fuel_cost + per_mile_maintenance_cost + per_mile_insurance_cost) - \\\n",
    "        (sixth_wheel_per_mile_fuel_cost + sixth_wheel_per_mile_maintenance_cost + sixth_wheel_per_mile_insurance_cost)\n",
    "sixth_wheel_per_mile_rental_cost = prop_take * delta"
   ]
  },
  {
   "cell_type": "code",
   "execution_count": 22,
   "metadata": {},
   "outputs": [
    {
     "name": "stdout",
     "output_type": "stream",
     "text": [
      "Overall percentage savings (WITHOUT OUR CUT) % 9.11666745400369 dimensionless\n",
      "Potential driver wage increase (if given only to driver, WITHOUT OUR CUT) % 22.874547430045617 dimensionless\n",
      "Overall percentage savings (WITH OUR CUT) % 3.646666981601479 dimensionless\n",
      "Potential driver wage increase (if given only to driver, WITH OUR CUT) % 9.149818972018254 dimensionless\n"
     ]
    }
   ],
   "source": [
    "\n",
    " # proportion of day on road# Total cost savings\n",
    "\n",
    "sixth_wheel_per_mile_cost_no_cut = per_mile_us_shipping_cost - delta\n",
    "\n",
    "overall_savings_no_cut = (per_mile_us_shipping_cost - sixth_wheel_per_mile_cost_no_cut) / per_mile_us_shipping_cost * 100\n",
    "driver_savings_no_cut = (per_mile_us_shipping_cost - sixth_wheel_per_mile_cost_no_cut) / per_mile_driver_cost * 100\n",
    "print(\"Overall percentage savings (WITHOUT OUR CUT) %\", overall_savings_no_cut)\n",
    "print(\"Potential driver wage increase (if given only to driver, WITHOUT OUR CUT) %\", driver_savings_no_cut)\n",
    "\n",
    "sixth_wheel_per_mile_cost = per_mile_us_shipping_cost - delta + \\\n",
    "                            + sixth_wheel_per_mile_rental_cost\n",
    "\n",
    "overall_savings = (per_mile_us_shipping_cost - sixth_wheel_per_mile_cost) / per_mile_us_shipping_cost * 100\n",
    "driver_savings = (per_mile_us_shipping_cost - sixth_wheel_per_mile_cost) / per_mile_driver_cost * 100\n",
    "\n",
    "print(\"Overall percentage savings (WITH OUR CUT) %\", overall_savings)\n",
    "print(\"Potential driver wage increase (if given only to driver, WITH OUR CUT) %\", driver_savings)"
   ]
  },
  {
   "cell_type": "code",
   "execution_count": 25,
   "metadata": {},
   "outputs": [
    {
     "name": "stdout",
     "output_type": "stream",
     "text": [
      "Cost of each sixth wheel 94253.87552922426 dimensionless\n",
      "sixth wheel debt service annually 33267.36121356697 dimensionless\n",
      "sixth wheel debt liability total 99802.0836407009 dimensionless\n",
      "sixth wheel annual revenue 31239.54362495967 dimensionless\n",
      "operating margins -0.22496543717086293 dimensionless\n",
      "lifetime profit -25472.613685294942 dimensionless\n",
      "lifetime value 113229.00977872571 dimensionless\n",
      "years until 6w battery failure 3.6245410988737476 dimensionless\n",
      "payments left on loan -20776.83432895101 dimensionless\n",
      "profit after loan payoff -4695.779356343934 dimensionless\n",
      "annualized profit per 6W -1565.259785447978 dimensionless\n",
      "capital accrued 113229.00977872571 dimensionless\n",
      "6W rate of return 6.304789271264433 dimensionless\n",
      "sixth wheel payback period 3.5920546819102355 year\n",
      "sixth wheel oeprating costs 38267.36121356697 dimensionless\n",
      "sixth wheel (rough) capital efficiency (%) 27.839219849186854 dimensionless\n",
      "PGH to CHI no yard TAM (not including split between our take and that given to market) ($) 275523923.7948992 dimensionless\n",
      "percent under base weight 0.8\n",
      "Total US trucking no yard TAM (not including split between our take and that given to market) ($) 3550861746.660838 dimensionless\n"
     ]
    }
   ],
   "source": [
    "#  Capital analysis\n",
    "\n",
    "sixth_wheel_capital_expense = battery_price + additional_component_cost\n",
    "sixth_wheel_miles_per_year = (sixth_wheel_utilization * sixth_wheel_speed * ureg.year).to('mile')\n",
    "sixth_wheel_annual_revenue = (sixth_wheel_miles_per_year * sixth_wheel_per_mile_rental_cost).to('dimensionless')\n",
    "\n",
    "print(\"Cost of each sixth wheel\", sixth_wheel_capital_expense)\n",
    "# determine margins\n",
    "# yard worker wages, etc. THIS IS A ROUGH ESTIMATE. Will serve as a target and someting to drive down\n",
    "# https://missionfinancialservices.net/what-are-your-options-to-cover-the-cost-of-semi-truck-repair/#:~:text=Most%20importantly%2C%20year%20truck%20maintenance,tires%20on%20an%2018%20wheeler.\n",
    "other_annual_operating_cost = 0.3 *15000 + 4000 *2/16\n",
    "# assume 3 yr loan @ 4.2% https://www.commercialloandirect.com/commercial-rates.php\n",
    "loan_years = 3\n",
    "rate = 3.75/1200;\n",
    "months = loan_years*12;\n",
    "debt_annual = 12*sixth_wheel_capital_expense * rate * (1+rate)**months / ((1+rate)**months - 1)\n",
    "print(\"sixth wheel debt service annually\", debt_annual)\n",
    "print(\"sixth wheel debt liability total\", debt_annual*loan_years)\n",
    "print(\"sixth wheel annual revenue\", sixth_wheel_annual_revenue)\n",
    "\n",
    "sixth_wheel_margins = (sixth_wheel_annual_revenue - (other_annual_operating_cost + debt_annual)) / sixth_wheel_annual_revenue\n",
    "\n",
    "print(\"operating margins\", sixth_wheel_margins)\n",
    "\n",
    "lifetime_profit = sixth_wheel_per_mile_rental_cost * sixth_wheel_miles_per_year * (battery_lifespan / sixth_wheel_miles_per_year) * sixth_wheel_margins\n",
    "print(\"lifetime profit\", lifetime_profit)\n",
    "lifetime_value = sixth_wheel_per_mile_rental_cost * sixth_wheel_miles_per_year * (battery_lifespan / sixth_wheel_miles_per_year)\n",
    "print(\"lifetime value\", lifetime_value)\n",
    "print(\"years until 6w battery failure\", battery_lifespan/sixth_wheel_miles_per_year)\n",
    "left_on_loan = debt_annual*loan_years - battery_lifespan/sixth_wheel_miles_per_year * (debt_annual)\n",
    "print(\"payments left on loan\", left_on_loan)\n",
    "print(\"profit after loan payoff\", lifetime_profit - left_on_loan)\n",
    "print(\"annualized profit per 6W\", (lifetime_profit - left_on_loan) / loan_years)\n",
    "print(\"capital accrued\", (lifetime_value - other_annual_operating_cost*loan_years + additional_component_cost))\n",
    "print(\"6W rate of return\", 100*(((lifetime_value - other_annual_operating_cost*loan_years + additional_component_cost) / sixth_wheel_capital_expense)**(1/loan_years) - 1))\n",
    "print(\"sixth wheel payback period\", ureg.year * sixth_wheel_capital_expense / (sixth_wheel_annual_revenue - other_annual_operating_cost))\n",
    "print(\"sixth wheel oeprating costs\", (sixth_wheel_annual_revenue * (1-sixth_wheel_margins)))\n",
    "print(\"sixth wheel (rough) capital efficiency (%)\", (sixth_wheel_annual_revenue - other_annual_operating_cost) / (sixth_wheel_capital_expense) * 100)\n",
    "\n",
    "# source: https://ops.fhwa.dot.gov/freight/freight_analysis/nat_freight_stats/nhsavglhft2015.htm\n",
    "pgh_to_chi_daily_trucks = 25000 \n",
    "pgh_to_chi_tam_no_yard = 365 * pgh_to_chi_daily_trucks * pgh_to_chi * sixth_wheel_per_mile_rental_cost\n",
    "print(\"PGH to CHI no yard TAM (not including split between our take and that given to market) ($)\", percent_under_base_weight * pgh_to_chi_tam_no_yard)\n",
    "\n",
    "# source: https://www.commerceexpressinc.com/2020/01/09/5-quick-facts-about-semi-trucks/#:~:text=Engines%20can't%20last%20forever,%2Dtruck%2015%2D16%20years.\n",
    "# source: https://hdstruckdrivinginstitute.com/semi-trucks-numbers/#:~:text=There%20are%20nearly%202%20million,tractors%20and%20tractor%20trailers%2C%20respectively.\n",
    "annual_semi_miles = 140e9*ureg.miles * 0.42\n",
    "print(\"percent under base weight\", percent_under_base_weight)\n",
    "print(\"Total US trucking no yard TAM (not including split between our take and that given to market) ($)\", percent_under_base_weight * annual_semi_miles * sixth_wheel_per_mile_rental_cost)"
   ]
  },
  {
   "cell_type": "code",
   "execution_count": 10,
   "metadata": {},
   "outputs": [
    {
     "name": "stdout",
     "output_type": "stream",
     "text": [
      "PGH to CHI yard TAM 250185600.0 dimensionless\n",
      "Total US trucking yard TAM 4606156800.000001 dimensionless\n",
      "lifetime value w/ yard -283558.5025544291 dimensionless\n",
      "sixth wheel payback period w/ yard 1.375019555085373 year\n",
      "sixth wheel (rough) capital efficiency  w/ yard (%) 72.72623842341729 dimensionless\n"
     ]
    }
   ],
   "source": [
    "#  Capital analysis, other revenue streams\n",
    "#  Yard operations (using sixth wheel as a yard jockey)\n",
    "#  source: baton.io\n",
    "detention_time_per_trip = 2 * ureg.hours\n",
    "percent_time_improvement = 0.7\n",
    "trips_per_year = pgh_to_chi_daily_trucks * 365 * percent_time_improvement\n",
    "hourly_wages = 24.48 * dollar / ureg.hour # source: https://www.bls.gov/ooh/transportation-and-material-moving/material-moving-machine-operators.htm\n",
    "pgh_to_chi_tam_yard = detention_time_per_trip * hourly_wages * trips_per_year\n",
    "# NOTE: making the sixth wheels autonomous yard jockeys will also improve margins on this market\n",
    "print(\"PGH to CHI yard TAM\", percent_under_base_weight * pgh_to_chi_tam_yard)\n",
    "\n",
    "average_trip_length = 500 * ureg.miles\n",
    "print(\"Total US trucking yard TAM\", percent_under_base_weight * detention_time_per_trip * hourly_wages * (annual_semi_miles / average_trip_length))\n",
    "\n",
    "sixth_wheel_per_mile_rental_cost_with_yard = sixth_wheel_per_mile_rental_cost + detention_time_per_trip * hourly_wages / average_trip_length\n",
    "sixth_wheel_annual_revenue_with_yard = (sixth_wheel_miles_per_year * sixth_wheel_per_mile_rental_cost_with_yard).to('dimensionless')\n",
    "\n",
    "print(\"lifetime value w/ yard\", sixth_wheel_per_mile_rental_cost_with_yard * sixth_wheel_miles_per_year * (battery_lifespan / sixth_wheel_miles_per_year) * sixth_wheel_margins)\n",
    "print(\"sixth wheel payback period w/ yard\", ureg.year * sixth_wheel_capital_expense / (sixth_wheel_annual_revenue_with_yard - other_annual_operating_cost))\n",
    "print(\"sixth wheel (rough) capital efficiency  w/ yard (%)\", (sixth_wheel_annual_revenue_with_yard - other_annual_operating_cost)/ (sixth_wheel_capital_expense ) * 100)\n"
   ]
  },
  {
   "cell_type": "code",
   "execution_count": 11,
   "metadata": {},
   "outputs": [
    {
     "name": "stdout",
     "output_type": "stream",
     "text": [
      "PGH to CHI annual revenue, autonomy 865468493.833982 dimensionless\n",
      "Total US trucking annual revenue, autonomy 11153873410.945343 dimensionless\n",
      "lifetime value  w/ yard and AV -703537.36024866 dimensionless\n",
      "sixth wheel payback period  w/ yard and AV 0.5234899613411931 year\n",
      "sixth wheel (rough) capital efficiency  w/ yard and AV (%) 191.02563064208098 dimensionless\n"
     ]
    }
   ],
   "source": [
    "#  Capital analysis, other revenue streams\n",
    "#  Autonomy (when full autonomy is achieved)\n",
    "sixth_wheel_per_mile_driver_cost_autonomy = 0.15 * dollar / (ureg.mile) # software license fee to AV company\n",
    "\n",
    "delta_autonomy = -per_mile_toll_increase + (per_mile_fuel_cost + per_mile_maintenance_cost + per_mile_insurance_cost + per_mile_driver_cost) - \\\n",
    "        (sixth_wheel_per_mile_fuel_cost + sixth_wheel_per_mile_maintenance_cost + sixth_wheel_per_mile_insurance_cost + sixth_wheel_per_mile_driver_cost_autonomy)\n",
    "sixth_wheel_per_mile_rental_cost_autonomy = prop_take * delta_autonomy\n",
    "\n",
    "sixth_wheel_annual_revenue_autonomy = (365 * pgh_to_chi_daily_trucks * pgh_to_chi * sixth_wheel_per_mile_rental_cost_autonomy).to('dimensionless')\n",
    "print(\"PGH to CHI annual revenue, autonomy\", percent_under_base_weight * sixth_wheel_annual_revenue_autonomy)\n",
    "\n",
    "print(\"Total US trucking annual revenue, autonomy\", percent_under_base_weight * annual_semi_miles * sixth_wheel_per_mile_rental_cost_autonomy)\n",
    "\n",
    "sixth_wheel_per_mile_rental_cost_with_yard_autonomy = sixth_wheel_per_mile_rental_cost_autonomy + detention_time_per_trip * hourly_wages / average_trip_length\n",
    "sixth_wheel_annual_revenue_with_yard_autonomy = (sixth_wheel_miles_per_year * sixth_wheel_per_mile_rental_cost_with_yard_autonomy).to('dimensionless')\n",
    "\n",
    "print(\"lifetime value  w/ yard and AV\", sixth_wheel_per_mile_rental_cost_with_yard_autonomy * sixth_wheel_miles_per_year * (battery_lifespan / sixth_wheel_miles_per_year) * sixth_wheel_margins)\n",
    "print(\"sixth wheel payback period  w/ yard and AV\", ureg.year * sixth_wheel_capital_expense / (sixth_wheel_annual_revenue_with_yard_autonomy - other_annual_operating_cost))\n",
    "print(\"sixth wheel (rough) capital efficiency  w/ yard and AV (%)\", (sixth_wheel_annual_revenue_with_yard_autonomy - other_annual_operating_cost)/ (sixth_wheel_capital_expense ) * 100)\n"
   ]
  },
  {
   "cell_type": "code",
   "execution_count": 12,
   "metadata": {},
   "outputs": [
    {
     "name": "stdout",
     "output_type": "stream",
     "text": [
      "tons saved per mile 0.0007455231572784508 ton / mile\n",
      "delta 0.07422931168985303 / mile\n",
      "lifetime tons saved 1677.4271038765144 ton\n",
      "cost per ton, lifetime 41.71017929118081 / ton\n",
      "savings per ton -92.92428105784457 / ton\n"
     ]
    }
   ],
   "source": [
    "# cost per ton of CO2 reduced\n",
    "mpg = 7 * ureg.mile / ureg.gallon\n",
    "gpm_status_quo = 1/ mpg\n",
    "gpm_sixth_wheel = (1-proportion_to_electric) * added_weight_factor / mpg\n",
    "# https://www.epa.gov/sites/production/files/2015-07/documents/emission-factors_2014.pdf\n",
    "diesel_emissions = 10.21 * ureg.kg / ureg.gallon\n",
    "print(\"tons saved per mile\", ((gpm_status_quo - gpm_sixth_wheel) * diesel_emissions).to('ton/mile'))\n",
    "print(\"delta\", delta)\n",
    "print(\"lifetime tons saved\", ((gpm_status_quo - gpm_sixth_wheel) * diesel_emissions * battery_lifespan).to('ton'))\n",
    "print(\"cost per ton, lifetime\", (sixth_wheel_capital_expense / ((gpm_status_quo - gpm_sixth_wheel) * diesel_emissions * battery_lifespan)).to('1/ton'))\n",
    "print(\"savings per ton\", (delta *sixth_wheel_margins/((gpm_status_quo - gpm_sixth_wheel) * diesel_emissions)).to('1/ton'))"
   ]
  },
  {
   "cell_type": "code",
   "execution_count": null,
   "metadata": {},
   "outputs": [],
   "source": []
  },
  {
   "cell_type": "code",
   "execution_count": null,
   "metadata": {},
   "outputs": [],
   "source": []
  },
  {
   "cell_type": "code",
   "execution_count": null,
   "metadata": {},
   "outputs": [],
   "source": []
  }
 ],
 "metadata": {
  "kernelspec": {
   "display_name": "Python 3",
   "language": "python",
   "name": "python3"
  },
  "language_info": {
   "codemirror_mode": {
    "name": "ipython",
    "version": 3
   },
   "file_extension": ".py",
   "mimetype": "text/x-python",
   "name": "python",
   "nbconvert_exporter": "python",
   "pygments_lexer": "ipython3",
   "version": "3.7.8"
  }
 },
 "nbformat": 4,
 "nbformat_minor": 4
}
