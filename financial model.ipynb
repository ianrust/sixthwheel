{
 "cells": [
  {
   "cell_type": "code",
   "execution_count": 1,
   "metadata": {},
   "outputs": [],
   "source": [
    "import pint\n",
    "ureg = pint.UnitRegistry()\n",
    "# ureg.define('dollar = dimensionless')\n",
    "# dollar = ureg.Quantity(1, 'dollar')\n",
    "dollar = 1"
   ]
  },
  {
   "cell_type": "code",
   "execution_count": 2,
   "metadata": {},
   "outputs": [],
   "source": [
    "# Status Quo (Diesel)\n",
    "# source: https://www.thetruckersreport.com/infographics/cost-of-trucking/\n",
    "# alternate source: https://www.freightwaves.com/news/understanding-total-operating-cost-per-mile#:~:text=Typically%2C%20gross%20fuel%20expense%20averages%20between%20%240.40%2D%240.55%20per%20mile.\n",
    "per_mile_us_shipping_cost = 1.38 * dollar / (ureg.mile)\n",
    "per_mile_fuel_cost = 0.54 * dollar / (ureg.mile)\n",
    "per_mile_equipment_cost = 0.24 * dollar / (ureg.mile)\n",
    "per_mile_driver_cost = 0.36 * dollar / (ureg.mile)\n",
    "per_mile_maintenance_cost = 0.12 * dollar / (ureg.mile)\n",
    "per_mile_insurance_cost = 0.05 * dollar / (ureg.mile)\n",
    "\n",
    "\n",
    "# Status Quo (Electric)\n",
    "\n",
    "# source: https://apps.dana.com/commercial-vehicles/tco/\n",
    "# alt source: https://avt.inl.gov/sites/default/files/pdf/fsev/costs.pdf\n",
    "per_mile_electricity_cost = 0.45 * per_mile_fuel_cost\n",
    "\n",
    "# source: https://apps.dana.com/commercial-vehicles/tco/\n",
    "per_mile_electric_maintenance_cost = 0.3 * per_mile_maintenance_cost\n",
    "\n",
    "# based on Tesla semi\n",
    "# source: https://electrek.co/2018/05/02/tesla-semi-production-version-range-increase-elon-musk/\n",
    "# alt source: https://lynceans.org/wp-content/uploads/2020/04/Tesla-Semi-converted.pdf\n",
    "# Important note - this says a Tesla semi will have ~20% lower operating costs, so a partial\n",
    "# electric conversion will be \n",
    "per_mile_electric_energy_use = 900 * ureg.kWh / (600 * ureg.mile) "
   ]
  },
  {
   "cell_type": "code",
   "execution_count": 3,
   "metadata": {},
   "outputs": [],
   "source": [
    "# Proposal for first route, since LCVs are legal on this route and it has high volume\n",
    "# source: https://ops.fhwa.dot.gov/freight/freight_analysis/nat_freight_stats/nhsavglhft2015.htm\n",
    "pgh_to_chi = 431 * ureg.miles"
   ]
  },
  {
   "cell_type": "code",
   "execution_count": 4,
   "metadata": {},
   "outputs": [],
   "source": [
    "# Best battery for application: Lithium Iron Phosphate\n",
    "# source: https://batteryuniversity.com/learn/article/types_of_lithium_ion\n",
    "# High cycles\n",
    "# Cheap\n",
    "# Good low temp performance\n",
    "# Safe (not nearly as suscpetible to thermal runaway as compared to Cobalt-based cathodes in Tesla Semi)\n",
    "\n",
    "# source: https://www.alibaba.com/product-detail/Graphene-lithium-iron-phosphate-battery-3_1600131559793.html\n",
    "battery_price_per_kwh = (63 * dollar / (272 * ureg.amp * ureg.hour * 3.2 * ureg.volt)).to('1/kWh')\n",
    "battery_lifespan = 10000 * pgh_to_chi\n",
    "depletion_factor = 0.8 # how much capacity it has after full cycles\n",
    "lfp_density = (272 * ureg.amp * ureg.hour * 3.2 * ureg.volt) / (5.4 * ureg.kg)"
   ]
  },
  {
   "cell_type": "code",
   "execution_count": 5,
   "metadata": {},
   "outputs": [],
   "source": [
    "# Parameters that can vary. Fiddle with these to test different operating conditions\\\n",
    "# If you want to test different configurations, these variables can be changed\n",
    "\n",
    "# How much work (proportionally) the electric motors will do (1 means 0% diesel, 0 means 100% diesel)\n",
    "proportion_to_electric = 0.7\n",
    "\n",
    "# How much of the cost savings we claim as revenue, the rest passed on to the rest of the market\n",
    "# (carriers, owner/operators, etc)\n",
    "prop_take = 0.4\n",
    "\n",
    "# How much more the tolls will cost by adding a 1-axle vehicle to the train\n",
    "# source: https://www.ohioturnpike.org/docs/default-source/annual-report-files/cafr-2019-final.pdf?sfvrsn=d361ebc4_2\n",
    "# when >3 trailers, ie classified as a road train (A type, ie fifth wheel to fifth wheel, 53' trailers)\n",
    "# per_mile_toll_increase = 0.07 * dollar / ureg.mile\n",
    "# when no increase in trailers, ie classified as a road train (B type, ie tow hitch to fifth wheel, twin 28' trailer LTL market)\n",
    "per_mile_toll_increase = 0.0 * dollar / ureg.mile\n",
    "\n",
    " # proportion of day on road\n",
    "sixth_wheel_utilization = 0.6\n",
    "\n",
    "# avg speed when on road\n",
    "sixth_wheel_speed = 45 * ureg.mph\n",
    "\n",
    "# proportional cost of components (as a proportion of battery cost), roughly based on Tesla\n",
    "additional_component_prop_cost = 0.1\n",
    "# proportional weight of components (as a proportion of battery cost), roughly based on Tesla\n",
    "additional_component_prop_weight = 0.25\n",
    "\n",
    "# margins of sixth wheel operation (not including driving operating costs, mainly yard things like recharding)\n",
    "sixth_wheel_margins = 0.6"
   ]
  },
  {
   "cell_type": "code",
   "execution_count": 6,
   "metadata": {},
   "outputs": [
    {
     "name": "stdout",
     "output_type": "stream",
     "text": [
      "total truck weight (must be <80k lbs) 79275.10399105446 pound\n"
     ]
    }
   ],
   "source": [
    "# iteratively get capacity, since more battery weight means need for more capacity\n",
    "added_weight_factor = 1.18\n",
    "resultant_weight_factor = 1\n",
    "\n",
    "# https://ops.fhwa.dot.gov/freight/freight_analysis/nat_freight_stats/docs/10factsfigures/table3_3.htm\n",
    "# https://www.freightpros.com/blog/less-than-truckload/\n",
    "# https://www.terrybryant.com/how-much-does-semi-truck-weigh#:~:text=Semi%2Dtractors%20weigh%20up%20to,haul%20up%20to%2034%2C000%20pounds.\n",
    "base_truck_weight = 68000 * ureg.pound\n",
    "percent_under_base_weight = 0.7\n",
    "\n",
    "while abs(added_weight_factor - resultant_weight_factor) > 0.00001:\n",
    "    added_weight_factor = resultant_weight_factor\n",
    "    battery_capacity = proportion_to_electric * per_mile_electric_energy_use * pgh_to_chi * added_weight_factor / depletion_factor\n",
    "    battery_price = battery_price_per_kwh * battery_capacity\n",
    "\n",
    "    lfp_battery_weight = battery_capacity / lfp_density\n",
    "\n",
    "    resultant_weight_factor = (base_truck_weight + lfp_battery_weight*(1+additional_component_prop_weight)) / base_truck_weight\n",
    "    \n",
    "added_weight_factor = resultant_weight_factor\n",
    "    \n",
    "print(\"total truck weight (must be <80k lbs)\", (base_truck_weight*added_weight_factor).to('lb'))"
   ]
  },
  {
   "cell_type": "code",
   "execution_count": 7,
   "metadata": {},
   "outputs": [],
   "source": [
    "# operating costs, averaged as a funtion of the proportion converted to electricity\n",
    "sixth_wheel_per_mile_fuel_cost = (per_mile_fuel_cost * (1-proportion_to_electric) + \\\n",
    "                                    per_mile_electricity_cost * (proportion_to_electric)) * added_weight_factor\n",
    "sixth_wheel_per_mile_maintenance_cost = (per_mile_maintenance_cost * (1-proportion_to_electric) + \\\n",
    "                                    per_mile_electric_maintenance_cost * (proportion_to_electric)) * added_weight_factor\n",
    "# Assume this is slightly lower because of ADAS features like ABS, ACC, anti-skid\n",
    "sixth_wheel_per_mile_insurance_cost = 0.8 * per_mile_insurance_cost\n",
    "\n",
    "# PRICING\n",
    "delta = -per_mile_toll_increase + (per_mile_fuel_cost + per_mile_maintenance_cost + per_mile_insurance_cost) - \\\n",
    "        (sixth_wheel_per_mile_fuel_cost + sixth_wheel_per_mile_maintenance_cost + sixth_wheel_per_mile_insurance_cost)\n",
    "sixth_wheel_per_mile_rental_cost = prop_take * delta"
   ]
  },
  {
   "cell_type": "code",
   "execution_count": 8,
   "metadata": {},
   "outputs": [
    {
     "name": "stdout",
     "output_type": "stream",
     "text": [
      "Overall percentage savings (WITHOUT OUR CUT) % 15.325129582606865 dimensionless\n",
      "Potential driver wage increase (if given only to driver, WITHOUT OUR CUT) % 58.74633006665964 dimensionless\n",
      "Overall percentage savings (WITH OUR CUT) % 9.19507774956412 dimensionless\n",
      "Potential driver wage increase (if given only to driver, WITH OUR CUT) % 35.24779803999579 dimensionless\n"
     ]
    }
   ],
   "source": [
    "\n",
    " # proportion of day on road# Total cost savings\n",
    "\n",
    "sixth_wheel_per_mile_cost_no_cut = per_mile_us_shipping_cost - delta\n",
    "\n",
    "overall_savings_no_cut = (per_mile_us_shipping_cost - sixth_wheel_per_mile_cost_no_cut) / per_mile_us_shipping_cost * 100\n",
    "driver_savings_no_cut = (per_mile_us_shipping_cost - sixth_wheel_per_mile_cost_no_cut) / per_mile_driver_cost * 100\n",
    "print(\"Overall percentage savings (WITHOUT OUR CUT) %\", overall_savings_no_cut)\n",
    "print(\"Potential driver wage increase (if given only to driver, WITHOUT OUR CUT) %\", driver_savings_no_cut)\n",
    "\n",
    "sixth_wheel_per_mile_cost = per_mile_us_shipping_cost - delta + \\\n",
    "                            + sixth_wheel_per_mile_rental_cost\n",
    "\n",
    "overall_savings = (per_mile_us_shipping_cost - sixth_wheel_per_mile_cost) / per_mile_us_shipping_cost * 100\n",
    "driver_savings = (per_mile_us_shipping_cost - sixth_wheel_per_mile_cost) / per_mile_driver_cost * 100\n",
    "\n",
    "print(\"Overall percentage savings (WITH OUR CUT) %\", overall_savings)\n",
    "print(\"Potential driver wage increase (if given only to driver, WITH OUR CUT) %\", driver_savings)"
   ]
  },
  {
   "cell_type": "code",
   "execution_count": 13,
   "metadata": {},
   "outputs": [
    {
     "name": "stdout",
     "output_type": "stream",
     "text": [
      "Cost of each sixth wheel 52506.82505066826 dimensionless\n",
      "lifetime value 218761.93375542984 dimensionless\n",
      "sixth wheel payback period 4.370750786972369 year\n",
      "sixth wheel (rough) capital efficiency (%) 22.87936440990045 dimensionless\n",
      "PGH to CHI no yard TAM (not including split between our take and that given to market) ($) 232890308.64380136 dimensionless\n",
      "Total US trucking no yard TAM (not including split between our take and that given to market) ($) 8290282099.007009 dimensionless\n"
     ]
    }
   ],
   "source": [
    "#  Capital analysis\n",
    "\n",
    "sixth_wheel_capital_expense = battery_price * (1+additional_component_prop_cost)\n",
    "sixth_wheel_miles_per_year = (sixth_wheel_utilization * sixth_wheel_speed * ureg.year).to('mile')\n",
    "sixth_wheel_annual_revenue = (sixth_wheel_miles_per_year * sixth_wheel_per_mile_rental_cost).to('dimensionless')\n",
    "\n",
    "print(\"Cost of each sixth wheel\", sixth_wheel_capital_expense)\n",
    "print(\"lifetime value\", sixth_wheel_per_mile_rental_cost * sixth_wheel_miles_per_year * (battery_lifespan / sixth_wheel_miles_per_year) * sixth_wheel_margins)\n",
    "print(\"sixth wheel payback period\", ureg.year * sixth_wheel_capital_expense / (sixth_wheel_annual_revenue * sixth_wheel_margins))\n",
    "print(\"sixth wheel (rough) capital efficiency (%)\", sixth_wheel_annual_revenue * sixth_wheel_margins/ (sixth_wheel_capital_expense ) * 100)\n",
    "\n",
    "# source: https://ops.fhwa.dot.gov/freight/freight_analysis/nat_freight_stats/nhsavglhft2015.htm\n",
    "pgh_to_chi_daily_trucks = 25000 \n",
    "pgh_to_chi_tam_no_yard = 365 * pgh_to_chi_daily_trucks * pgh_to_chi * sixth_wheel_per_mile_rental_cost\n",
    "print(\"PGH to CHI no yard TAM (not including split between our take and that given to market) ($)\", percent_under_base_weight * pgh_to_chi_tam_no_yard)\n",
    "\n",
    "# source: https://www.commerceexpressinc.com/2020/01/09/5-quick-facts-about-semi-trucks/#:~:text=Engines%20can't%20last%20forever,%2Dtruck%2015%2D16%20years.\n",
    "# source: https://hdstruckdrivinginstitute.com/semi-trucks-numbers/#:~:text=There%20are%20nearly%202%20million,tractors%20and%20tractor%20trailers%2C%20respectively.\n",
    "annual_semi_miles = 140e9*ureg.miles\n",
    "print(\"Total US trucking no yard TAM (not including split between our take and that given to market) ($)\", percent_under_base_weight * annual_semi_miles * sixth_wheel_per_mile_rental_cost)"
   ]
  },
  {
   "cell_type": "code",
   "execution_count": 14,
   "metadata": {},
   "outputs": [
    {
     "name": "stdout",
     "output_type": "stream",
     "text": [
      "PGH to CHI yard TAM 437824800.0 dimensionless\n",
      "Total US trucking yard TAM 19192320000.0 dimensionless\n",
      "lifetime value w/ yard 725204.1737554298 dimensionless\n",
      "sixth wheel payback period w/ yard 1.3184616535916387 year\n",
      "sixth wheel (rough) capital efficiency  w/ yard (%) 75.84596770606767 dimensionless\n"
     ]
    }
   ],
   "source": [
    "#  Capital analysis, other revenue streams\n",
    "#  Yard operations (using sixth wheel as a yard jockey)\n",
    "#  source: baton.io\n",
    "detention_time_per_trip = 4 * ureg.hours\n",
    "percent_time_improvement = 0.7\n",
    "trips_per_year = pgh_to_chi_daily_trucks * 365 * percent_time_improvement\n",
    "hourly_wages = 24.48 * dollar / ureg.hour # source: https://www.bls.gov/ooh/transportation-and-material-moving/material-moving-machine-operators.htm\n",
    "pgh_to_chi_tam_yard = detention_time_per_trip * hourly_wages * trips_per_year\n",
    "# NOTE: making the sixth wheels autonomous yard jockeys will also improve margins on this market\n",
    "print(\"PGH to CHI yard TAM\", percent_under_base_weight * pgh_to_chi_tam_yard)\n",
    "\n",
    "average_trip_length = 500 * ureg.miles\n",
    "print(\"Total US trucking yard TAM\", percent_under_base_weight * detention_time_per_trip * hourly_wages * (annual_semi_miles / average_trip_length))\n",
    "\n",
    "sixth_wheel_per_mile_rental_cost_with_yard = sixth_wheel_per_mile_rental_cost + detention_time_per_trip * hourly_wages / average_trip_length\n",
    "sixth_wheel_annual_revenue_with_yard = (sixth_wheel_miles_per_year * sixth_wheel_per_mile_rental_cost_with_yard).to('dimensionless')\n",
    "\n",
    "print(\"lifetime value w/ yard\", sixth_wheel_per_mile_rental_cost_with_yard * sixth_wheel_miles_per_year * (battery_lifespan / sixth_wheel_miles_per_year) * sixth_wheel_margins)\n",
    "print(\"sixth wheel payback period w/ yard\", ureg.year * sixth_wheel_capital_expense / (sixth_wheel_annual_revenue_with_yard * sixth_wheel_margins))\n",
    "print(\"sixth wheel (rough) capital efficiency  w/ yard (%)\", sixth_wheel_annual_revenue_with_yard * sixth_wheel_margins/ (sixth_wheel_capital_expense ) * 100)\n"
   ]
  },
  {
   "cell_type": "code",
   "execution_count": 12,
   "metadata": {},
   "outputs": [
    {
     "name": "stdout",
     "output_type": "stream",
     "text": [
      "PGH to CHI annual revenue, autonomy 663061940.9197162 dimensionless\n",
      "Total US trucking annual revenue, autonomy 23603260141.438583 dimensionless\n",
      "lifetime value  w/ yard and AV 942428.1737554298 dimensionless\n",
      "sixth wheel payback period  w/ yard and AV 1.014564208443618 year\n",
      "sixth wheel (rough) capital efficiency  w/ yard and AV (%) 98.56448627672762 dimensionless\n"
     ]
    }
   ],
   "source": [
    "#  Capital analysis, other revenue streams\n",
    "#  Autonomy (when full autonomy is achieved)\n",
    "sixth_wheel_per_mile_driver_cost_autonomy = 0.15 * dollar / (ureg.mile) # software license fee to AV company\n",
    "\n",
    "delta_autonomy = -per_mile_toll_increase + (per_mile_fuel_cost + per_mile_maintenance_cost + per_mile_insurance_cost + per_mile_driver_cost) - \\\n",
    "        (sixth_wheel_per_mile_fuel_cost + sixth_wheel_per_mile_maintenance_cost + sixth_wheel_per_mile_insurance_cost + sixth_wheel_per_mile_driver_cost_autonomy)\n",
    "sixth_wheel_per_mile_rental_cost_autonomy = prop_take * delta_autonomy\n",
    "\n",
    "sixth_wheel_annual_revenue_autonomy = (365 * pgh_to_chi_daily_trucks * pgh_to_chi * sixth_wheel_per_mile_rental_cost_autonomy).to('dimensionless')\n",
    "print(\"PGH to CHI annual revenue, autonomy\", sixth_wheel_annual_revenue_autonomy)\n",
    "\n",
    "print(\"Total US trucking annual revenue, autonomy\", annual_semi_miles * sixth_wheel_per_mile_rental_cost_autonomy)\n",
    "\n",
    "sixth_wheel_per_mile_rental_cost_with_yard_autonomy = sixth_wheel_per_mile_rental_cost_autonomy + detention_time_per_trip * hourly_wages / average_trip_length\n",
    "sixth_wheel_annual_revenue_with_yard_autonomy = (sixth_wheel_miles_per_year * sixth_wheel_per_mile_rental_cost_with_yard_autonomy).to('dimensionless')\n",
    "\n",
    "print(\"lifetime value  w/ yard and AV\", sixth_wheel_per_mile_rental_cost_with_yard_autonomy * sixth_wheel_miles_per_year * (battery_lifespan / sixth_wheel_miles_per_year) * sixth_wheel_margins)\n",
    "print(\"sixth wheel payback period  w/ yard and AV\", ureg.year * sixth_wheel_capital_expense / (sixth_wheel_annual_revenue_with_yard_autonomy * sixth_wheel_margins))\n",
    "print(\"sixth wheel (rough) capital efficiency  w/ yard and AV (%)\", sixth_wheel_annual_revenue_with_yard_autonomy * sixth_wheel_margins/ (sixth_wheel_capital_expense ) * 100)\n"
   ]
  },
  {
   "cell_type": "code",
   "execution_count": null,
   "metadata": {},
   "outputs": [],
   "source": []
  }
 ],
 "metadata": {
  "kernelspec": {
   "display_name": "Python 3",
   "language": "python",
   "name": "python3"
  },
  "language_info": {
   "codemirror_mode": {
    "name": "ipython",
    "version": 3
   },
   "file_extension": ".py",
   "mimetype": "text/x-python",
   "name": "python",
   "nbconvert_exporter": "python",
   "pygments_lexer": "ipython3",
   "version": "3.7.9"
  }
 },
 "nbformat": 4,
 "nbformat_minor": 4
}
